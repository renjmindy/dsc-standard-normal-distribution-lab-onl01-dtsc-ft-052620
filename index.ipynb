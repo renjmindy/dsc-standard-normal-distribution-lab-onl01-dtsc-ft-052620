{
 "cells": [
  {
   "cell_type": "markdown",
   "metadata": {},
   "source": [
    "# The Standard Normal Distribution - Lab\n",
    "\n",
    "## Introduction\n",
    "\n",
    "In the previous lesson, you learned about the formula of the $z$-score, and looked at a few toy examples to explain an observation's standard score for normally distributed data. In this lab, you'll practice by standardizing and visualize some normal distributions.\n",
    "\n",
    "## Objectives\n",
    "\n",
    "You will be able to:\n",
    "\n",
    "* Calculate and interpret the z-score (standard score) for an observation from normally distributed data\n",
    "* Visualize data before and after standardization to visually inspect the results\n",
    "\n",
    "## Let's get started\n",
    "\n",
    "> A $z$-score can help identify how many standard deviations above or below the mean a certain observation is. Every time you obtain a $z$-score, use “above” or “below” in your phrasing.\n",
    "\n",
    "The yields of apple trees in an orchard have been recorded in the file `yield.csv`. Each observation is recorded by weighing apples from trees (in pounds) and adding their weights. There are 5000 observations in total for this data. \n",
    "\n",
    "## Load, visualize and give general comments about the dataset\n",
    "\n",
    "Use pandas for loading and inspecting the data."
   ]
  },
  {
   "cell_type": "code",
   "execution_count": 1,
   "metadata": {
    "ExecuteTime": {
     "end_time": "2020-06-28T21:55:42.316646Z",
     "start_time": "2020-06-28T21:55:40.393920Z"
    }
   },
   "outputs": [
    {
     "data": {
      "text/html": [
       "<div>\n",
       "<style scoped>\n",
       "    .dataframe tbody tr th:only-of-type {\n",
       "        vertical-align: middle;\n",
       "    }\n",
       "\n",
       "    .dataframe tbody tr th {\n",
       "        vertical-align: top;\n",
       "    }\n",
       "\n",
       "    .dataframe thead th {\n",
       "        text-align: right;\n",
       "    }\n",
       "</style>\n",
       "<table border=\"1\" class=\"dataframe\">\n",
       "  <thead>\n",
       "    <tr style=\"text-align: right;\">\n",
       "      <th></th>\n",
       "      <th>0</th>\n",
       "    </tr>\n",
       "  </thead>\n",
       "  <tbody>\n",
       "    <tr>\n",
       "      <td>0</td>\n",
       "      <td>39.741234</td>\n",
       "    </tr>\n",
       "    <tr>\n",
       "      <td>1</td>\n",
       "      <td>39.872055</td>\n",
       "    </tr>\n",
       "    <tr>\n",
       "      <td>2</td>\n",
       "      <td>44.331164</td>\n",
       "    </tr>\n",
       "    <tr>\n",
       "      <td>3</td>\n",
       "      <td>46.600623</td>\n",
       "    </tr>\n",
       "    <tr>\n",
       "      <td>4</td>\n",
       "      <td>40.694984</td>\n",
       "    </tr>\n",
       "  </tbody>\n",
       "</table>\n",
       "</div>"
      ],
      "text/plain": [
       "           0\n",
       "0  39.741234\n",
       "1  39.872055\n",
       "2  44.331164\n",
       "3  46.600623\n",
       "4  40.694984"
      ]
     },
     "execution_count": 1,
     "metadata": {},
     "output_type": "execute_result"
    }
   ],
   "source": [
    "# Import libraries\n",
    "import pandas as pd\n",
    "# Read the yield data as a dataframe\n",
    "data = pd.read_csv('yield.csv')\n",
    "data.head()"
   ]
  },
  {
   "cell_type": "code",
   "execution_count": 2,
   "metadata": {
    "ExecuteTime": {
     "end_time": "2020-06-28T21:55:46.857872Z",
     "start_time": "2020-06-28T21:55:45.174102Z"
    }
   },
   "outputs": [
    {
     "data": {
      "text/plain": [
       "<matplotlib.axes._subplots.AxesSubplot at 0x1f97ceab320>"
      ]
     },
     "execution_count": 2,
     "metadata": {},
     "output_type": "execute_result"
    }
   ],
   "source": [
    "# Create a plot\n",
    "import seaborn as sns\n",
    "sns.distplot(data)"
   ]
  },
  {
   "cell_type": "code",
   "execution_count": 3,
   "metadata": {
    "ExecuteTime": {
     "end_time": "2020-06-28T21:55:47.419610Z",
     "start_time": "2020-06-28T21:55:47.412607Z"
    }
   },
   "outputs": [],
   "source": [
    "# Your comments about the data here\n",
    "# The data is normally distributed as shown by the density curve"
   ]
  },
  {
   "cell_type": "markdown",
   "metadata": {},
   "source": [
    "## Briefly explain what each value represents in this data set"
   ]
  },
  {
   "cell_type": "code",
   "execution_count": 4,
   "metadata": {
    "ExecuteTime": {
     "end_time": "2020-06-28T21:55:48.867722Z",
     "start_time": "2020-06-28T21:55:48.861722Z"
    }
   },
   "outputs": [],
   "source": [
    "# Your answer here\n",
    "# Each value represents the yield from a single tree in terms of total weight of apples\n",
    "# that were obtained from this tree"
   ]
  },
  {
   "cell_type": "markdown",
   "metadata": {},
   "source": [
    "## Define the interval bounds which contain 99% of the observations   \n",
    "\n",
    "> **Hint**: Recall the empirical rule related to $3\\sigma$."
   ]
  },
  {
   "cell_type": "code",
   "execution_count": 5,
   "metadata": {
    "ExecuteTime": {
     "end_time": "2020-06-28T21:55:50.327650Z",
     "start_time": "2020-06-28T21:55:50.278647Z"
    }
   },
   "outputs": [
    {
     "data": {
      "text/html": [
       "<div>\n",
       "<style scoped>\n",
       "    .dataframe tbody tr th:only-of-type {\n",
       "        vertical-align: middle;\n",
       "    }\n",
       "\n",
       "    .dataframe tbody tr th {\n",
       "        vertical-align: top;\n",
       "    }\n",
       "\n",
       "    .dataframe thead th {\n",
       "        text-align: right;\n",
       "    }\n",
       "</style>\n",
       "<table border=\"1\" class=\"dataframe\">\n",
       "  <thead>\n",
       "    <tr style=\"text-align: right;\">\n",
       "      <th></th>\n",
       "      <th>0</th>\n",
       "    </tr>\n",
       "  </thead>\n",
       "  <tbody>\n",
       "    <tr>\n",
       "      <td>count</td>\n",
       "      <td>5000.000000</td>\n",
       "    </tr>\n",
       "    <tr>\n",
       "      <td>mean</td>\n",
       "      <td>42.407624</td>\n",
       "    </tr>\n",
       "    <tr>\n",
       "      <td>std</td>\n",
       "      <td>6.003697</td>\n",
       "    </tr>\n",
       "    <tr>\n",
       "      <td>min</td>\n",
       "      <td>21.931212</td>\n",
       "    </tr>\n",
       "    <tr>\n",
       "      <td>25%</td>\n",
       "      <td>38.371895</td>\n",
       "    </tr>\n",
       "    <tr>\n",
       "      <td>50%</td>\n",
       "      <td>42.352304</td>\n",
       "    </tr>\n",
       "    <tr>\n",
       "      <td>75%</td>\n",
       "      <td>46.458478</td>\n",
       "    </tr>\n",
       "    <tr>\n",
       "      <td>max</td>\n",
       "      <td>65.548170</td>\n",
       "    </tr>\n",
       "  </tbody>\n",
       "</table>\n",
       "</div>"
      ],
      "text/plain": [
       "                 0\n",
       "count  5000.000000\n",
       "mean     42.407624\n",
       "std       6.003697\n",
       "min      21.931212\n",
       "25%      38.371895\n",
       "50%      42.352304\n",
       "75%      46.458478\n",
       "max      65.548170"
      ]
     },
     "execution_count": 5,
     "metadata": {},
     "output_type": "execute_result"
    }
   ],
   "source": [
    "# Perform any calculations necessary here\n",
    "data.describe()"
   ]
  },
  {
   "cell_type": "code",
   "execution_count": 6,
   "metadata": {
    "ExecuteTime": {
     "end_time": "2020-06-28T21:55:51.532012Z",
     "start_time": "2020-06-28T21:55:51.528013Z"
    }
   },
   "outputs": [],
   "source": [
    "# Write your answer here \n",
    "# the mean value is 42.4 and the standard deviation is around 6\n",
    "# 68% of tree yields have weight between (42.4 - 6) 36.4 and (42.4 - 6) 48.4 pounds; \n",
    "# 95% between 30.4 and 54.4; \n",
    "# Almost all between 24.4 and 60.4 pounds"
   ]
  },
  {
   "cell_type": "markdown",
   "metadata": {},
   "source": [
    "## Compute and interpret the z-score for a tree yielding 35 pounds of apples"
   ]
  },
  {
   "cell_type": "code",
   "execution_count": 7,
   "metadata": {
    "ExecuteTime": {
     "end_time": "2020-06-28T21:55:52.999974Z",
     "start_time": "2020-06-28T21:55:52.965967Z"
    }
   },
   "outputs": [
    {
     "data": {
      "text/plain": [
       "0   -1.233844\n",
       "dtype: float64"
      ]
     },
     "execution_count": 7,
     "metadata": {},
     "output_type": "execute_result"
    }
   ],
   "source": [
    "# Calculate z\n",
    "z = (35 - data.mean())/data.std()\n",
    "z"
   ]
  },
  {
   "cell_type": "code",
   "execution_count": 8,
   "metadata": {
    "ExecuteTime": {
     "end_time": "2020-06-28T21:55:54.092216Z",
     "start_time": "2020-06-28T21:55:54.087216Z"
    }
   },
   "outputs": [],
   "source": [
    "# Interpret the result\n",
    "# This tree’s yield is 1.23 standard deviations below the mean yield."
   ]
  },
  {
   "cell_type": "markdown",
   "metadata": {},
   "source": [
    "## Suppose a tree has a z-score of 1.85. Interpret this z-score. What is the yield of this tree?"
   ]
  },
  {
   "cell_type": "code",
   "execution_count": 9,
   "metadata": {
    "ExecuteTime": {
     "end_time": "2020-06-28T21:55:55.234144Z",
     "start_time": "2020-06-28T21:55:55.228137Z"
    }
   },
   "outputs": [],
   "source": [
    "# Interpret the z score\n",
    "# This tree’s yield is 1.85 standard deviations above the mean"
   ]
  },
  {
   "cell_type": "code",
   "execution_count": 10,
   "metadata": {
    "ExecuteTime": {
     "end_time": "2020-06-28T21:55:56.264648Z",
     "start_time": "2020-06-28T21:55:56.241131Z"
    }
   },
   "outputs": [
    {
     "data": {
      "text/plain": [
       "0    53.514462\n",
       "dtype: float64"
      ]
     },
     "execution_count": 10,
     "metadata": {},
     "output_type": "execute_result"
    }
   ],
   "source": [
    "# Calculate yield\n",
    "y = 1.85*data.std() + data.mean()\n",
    "y"
   ]
  },
  {
   "cell_type": "code",
   "execution_count": 11,
   "metadata": {
    "ExecuteTime": {
     "end_time": "2020-06-28T21:55:57.263714Z",
     "start_time": "2020-06-28T21:55:57.258711Z"
    }
   },
   "outputs": [],
   "source": [
    "# What is the yield ?\n",
    "# Yield of this tree is 53.5 pounds. "
   ]
  },
  {
   "cell_type": "markdown",
   "metadata": {},
   "source": [
    "##  Convert each tree’s yield to a z-score so the new variable is the “z-score for weight”\n",
    "\n",
    "The units are still the apple trees. For the data set of all z-scores:\n",
    "\n",
    "* What is the shape? \n",
    "* The mean? \n",
    "* The standard deviation?"
   ]
  },
  {
   "cell_type": "code",
   "execution_count": 15,
   "metadata": {
    "ExecuteTime": {
     "end_time": "2020-06-28T21:57:15.859005Z",
     "start_time": "2020-06-28T21:57:09.109568Z"
    }
   },
   "outputs": [
    {
     "name": "stdout",
     "output_type": "stream",
     "text": [
      "mean: 4.462208380573429e-16\n",
      "std: 0.9998999949995\n"
     ]
    }
   ],
   "source": [
    "# Give your solution here \n",
    "data_convert_lst = list((i-data.mean())/data.std() for i in data['0'])\n",
    "#print(data_convert_lst)\n",
    "print('mean:',np.mean(np.array(data_convert_lst)))\n",
    "print('std:',np.std(np.array(data_convert_lst)))"
   ]
  },
  {
   "cell_type": "code",
   "execution_count": 13,
   "metadata": {
    "ExecuteTime": {
     "end_time": "2020-06-28T21:56:33.912673Z",
     "start_time": "2020-06-28T21:56:33.907674Z"
    }
   },
   "outputs": [],
   "source": [
    "# Your observations \n",
    "\n",
    "# mean: 4.462208380573429e-16\n",
    "# std: 0.9998999949995\n",
    "\n",
    "# It is a standard normal distribution\n",
    "# Mean is 0 (it is a very small figure that rounds off to 0)\n",
    "# SD is 1\n",
    "# This is obvious because we standardised the whole distribution"
   ]
  },
  {
   "cell_type": "code",
   "execution_count": 14,
   "metadata": {
    "ExecuteTime": {
     "end_time": "2020-06-28T21:56:47.598589Z",
     "start_time": "2020-06-28T21:56:46.754524Z"
    }
   },
   "outputs": [
    {
     "data": {
      "text/plain": [
       "<matplotlib.axes._subplots.AxesSubplot at 0x1f97e858208>"
      ]
     },
     "execution_count": 14,
     "metadata": {},
     "output_type": "execute_result"
    },
    {
     "data": {
      "image/png": "[encoded data removed]",
      "text/plain": [
       "<Figure size 432x288 with 1 Axes>"
      ]
     },
     "metadata": {
      "needs_background": "light"
     },
     "output_type": "display_data"
    }
   ],
   "source": [
    "sns.distplot(data_convert_lst)"
   ]
  },
  {
   "cell_type": "markdown",
   "metadata": {},
   "source": [
    "## Summary\n",
    "\n",
    "In this lab, you practiced your knowledge of the standard normal distribution!"
   ]
  }
 ],
 "metadata": {
  "kernelspec": {
   "display_name": "Python 3",
   "language": "python",
   "name": "python3"
  },
  "language_info": {
   "codemirror_mode": {
    "name": "ipython",
    "version": 3
   },
   "file_extension": ".py",
   "mimetype": "text/x-python",
   "name": "python",
   "nbconvert_exporter": "python",
   "pygments_lexer": "ipython3",
   "version": "3.6.9"
  },
  "toc": {
   "base_numbering": 1,
   "nav_menu": {},
   "number_sections": true,
   "sideBar": true,
   "skip_h1_title": false,
   "title_cell": "Table of Contents",
   "title_sidebar": "Contents",
   "toc_cell": false,
   "toc_position": {},
   "toc_section_display": true,
   "toc_window_display": false
  },
  "varInspector": {
   "cols": {
    "lenName": 16,
    "lenType": 16,
    "lenVar": 40
   },
   "kernels_config": {
    "python": {
     "delete_cmd_postfix": "",
     "delete_cmd_prefix": "del ",
     "library": "var_list.py",
     "varRefreshCmd": "print(var_dic_list())"
    },
    "r": {
     "delete_cmd_postfix": ") ",
     "delete_cmd_prefix": "rm(",
     "library": "var_list.r",
     "varRefreshCmd": "cat(var_dic_list()) "
    }
   },
   "types_to_exclude": [
    "module",
    "function",
    "builtin_function_or_method",
    "instance",
    "_Feature"
   ],
   "window_display": false
  }
 },
 "nbformat": 4,
 "nbformat_minor": 2
}
